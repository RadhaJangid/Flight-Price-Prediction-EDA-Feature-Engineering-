{
 "cells": [
  {
   "cell_type": "code",
   "execution_count": 1,
   "metadata": {},
   "outputs": [],
   "source": [
    "#Automated EDA techniques"
   ]
  },
  {
   "cell_type": "markdown",
   "metadata": {},
   "source": [
    "# Download basic library requirement-\n",
    "import sys\n",
    "!{sys.executable} -m pip install pandas-profiling\n",
    "\n",
    "           OR\n",
    "!pip install pandas-profiling\n",
    "\n",
    "!pip install numpy==1.19.0\n",
    "\n"
   ]
  },
  {
   "cell_type": "code",
   "execution_count": 1,
   "metadata": {},
   "outputs": [],
   "source": [
    "#!pip install pandas==1.1.5\n",
    "import pandas_profiling"
   ]
  },
  {
   "cell_type": "code",
   "execution_count": 2,
   "metadata": {},
   "outputs": [],
   "source": [
    "import seaborn as sns"
   ]
  },
  {
   "cell_type": "code",
   "execution_count": 3,
   "metadata": {},
   "outputs": [],
   "source": [
    "df=sns.load_dataset('tips')"
   ]
  },
  {
   "cell_type": "code",
   "execution_count": 4,
   "metadata": {},
   "outputs": [
    {
     "data": {
      "text/html": [
       "<div>\n",
       "<style scoped>\n",
       "    .dataframe tbody tr th:only-of-type {\n",
       "        vertical-align: middle;\n",
       "    }\n",
       "\n",
       "    .dataframe tbody tr th {\n",
       "        vertical-align: top;\n",
       "    }\n",
       "\n",
       "    .dataframe thead th {\n",
       "        text-align: right;\n",
       "    }\n",
       "</style>\n",
       "<table border=\"1\" class=\"dataframe\">\n",
       "  <thead>\n",
       "    <tr style=\"text-align: right;\">\n",
       "      <th></th>\n",
       "      <th>total_bill</th>\n",
       "      <th>tip</th>\n",
       "      <th>sex</th>\n",
       "      <th>smoker</th>\n",
       "      <th>day</th>\n",
       "      <th>time</th>\n",
       "      <th>size</th>\n",
       "    </tr>\n",
       "  </thead>\n",
       "  <tbody>\n",
       "    <tr>\n",
       "      <th>0</th>\n",
       "      <td>16.99</td>\n",
       "      <td>1.01</td>\n",
       "      <td>Female</td>\n",
       "      <td>No</td>\n",
       "      <td>Sun</td>\n",
       "      <td>Dinner</td>\n",
       "      <td>2</td>\n",
       "    </tr>\n",
       "    <tr>\n",
       "      <th>1</th>\n",
       "      <td>10.34</td>\n",
       "      <td>1.66</td>\n",
       "      <td>Male</td>\n",
       "      <td>No</td>\n",
       "      <td>Sun</td>\n",
       "      <td>Dinner</td>\n",
       "      <td>3</td>\n",
       "    </tr>\n",
       "  </tbody>\n",
       "</table>\n",
       "</div>"
      ],
      "text/plain": [
       "   total_bill   tip     sex smoker  day    time  size\n",
       "0       16.99  1.01  Female     No  Sun  Dinner     2\n",
       "1       10.34  1.66    Male     No  Sun  Dinner     3"
      ]
     },
     "execution_count": 4,
     "metadata": {},
     "output_type": "execute_result"
    }
   ],
   "source": [
    "df.head(2)"
   ]
  },
  {
   "cell_type": "code",
   "execution_count": 5,
   "metadata": {},
   "outputs": [],
   "source": [
    "from pandas_profiling import ProfileReport"
   ]
  },
  {
   "cell_type": "code",
   "execution_count": 6,
   "metadata": {},
   "outputs": [],
   "source": [
    "profile=ProfileReport(df,explorative=True,dark_mode=True)"
   ]
  },
  {
   "cell_type": "code",
   "execution_count": 7,
   "metadata": {},
   "outputs": [
    {
     "data": {
      "application/vnd.jupyter.widget-view+json": {
       "model_id": "f1c17a2899b34c26b1a67f16193a42b6",
       "version_major": 2,
       "version_minor": 0
      },
      "text/plain": [
       "Summarize dataset:   0%|          | 0/5 [00:00<?, ?it/s]"
      ]
     },
     "metadata": {},
     "output_type": "display_data"
    },
    {
     "data": {
      "application/vnd.jupyter.widget-view+json": {
       "model_id": "eafa4ccd9c234013aa39b3d31f5ca9d4",
       "version_major": 2,
       "version_minor": 0
      },
      "text/plain": [
       "Generate report structure:   0%|          | 0/1 [00:00<?, ?it/s]"
      ]
     },
     "metadata": {},
     "output_type": "display_data"
    },
    {
     "data": {
      "application/vnd.jupyter.widget-view+json": {
       "model_id": "11017779b8e847aea7c79ae97ea2a3bd",
       "version_major": 2,
       "version_minor": 0
      },
      "text/plain": [
       "Render HTML:   0%|          | 0/1 [00:00<?, ?it/s]"
      ]
     },
     "metadata": {},
     "output_type": "display_data"
    },
    {
     "data": {
      "application/vnd.jupyter.widget-view+json": {
       "model_id": "43d4520f384e44a799924292fc2a723b",
       "version_major": 2,
       "version_minor": 0
      },
      "text/plain": [
       "Export report to file:   0%|          | 0/1 [00:00<?, ?it/s]"
      ]
     },
     "metadata": {},
     "output_type": "display_data"
    }
   ],
   "source": [
    "profile.to_file('output.html')"
   ]
  },
  {
   "cell_type": "code",
   "execution_count": 8,
   "metadata": {},
   "outputs": [
    {
     "name": "stdout",
     "output_type": "stream",
     "text": [
      "Requirement already satisfied: dtale in c:\\users\\radha\\anaconda3\\lib\\site-packages (2.8.1)\n",
      "Requirement already satisfied: kaleido; python_version > \"3.6\" in c:\\users\\radha\\anaconda3\\lib\\site-packages (from dtale) (0.2.1)\n",
      "Requirement already satisfied: dash-bootstrap-components; python_version > \"3.0\" in c:\\users\\radha\\anaconda3\\lib\\site-packages (from dtale) (1.2.1)\n",
      "Requirement already satisfied: numpy; python_version >= \"3.0\" in c:\\users\\radha\\anaconda3\\lib\\site-packages (from dtale) (1.19.0)\n",
      "Requirement already satisfied: dash>=2.0.0; python_version > \"3.6\" in c:\\users\\radha\\anaconda3\\lib\\site-packages (from dtale) (2.6.2)\n",
      "Requirement already satisfied: cycler; python_version > \"3.0\" in c:\\users\\radha\\anaconda3\\lib\\site-packages (from dtale) (0.10.0)\n",
      "Requirement already satisfied: lz4; python_version > \"3.0\" in c:\\users\\radha\\anaconda3\\lib\\site-packages (from dtale) (4.0.2)\n",
      "Requirement already satisfied: networkx==2.6.3; python_version == \"3.7\" in c:\\users\\radha\\anaconda3\\lib\\site-packages (from dtale) (2.6.3)\n",
      "Requirement already satisfied: six in c:\\users\\radha\\anaconda3\\lib\\site-packages (from dtale) (1.16.0)\n",
      "Requirement already satisfied: packaging<=21.0; python_version == \"3.7\" in c:\\users\\radha\\anaconda3\\lib\\site-packages (from dtale) (21.0)\n",
      "Requirement already satisfied: flask-ngrok; python_version > \"3.0\" in c:\\users\\radha\\anaconda3\\lib\\site-packages (from dtale) (0.0.25)\n",
      "Requirement already satisfied: pandas in c:\\users\\radha\\anaconda3\\lib\\site-packages (from dtale) (1.1.5)\n",
      "Requirement already satisfied: xlrd in c:\\users\\radha\\anaconda3\\lib\\site-packages (from dtale) (1.2.0)\n",
      "Requirement already satisfied: openpyxl; python_version >= \"3.0\" in c:\\users\\radha\\anaconda3\\lib\\site-packages (from dtale) (2.6.1)\n",
      "Requirement already satisfied: xarray; python_version >= \"3.0\" in c:\\users\\radha\\anaconda3\\lib\\site-packages (from dtale) (0.20.2)\n",
      "Requirement already satisfied: strsimpy in c:\\users\\radha\\anaconda3\\lib\\site-packages (from dtale) (0.2.1)\n",
      "Requirement already satisfied: itsdangerous; python_version >= \"3.7\" in c:\\users\\radha\\anaconda3\\lib\\site-packages (from dtale) (1.1.0)\n",
      "Requirement already satisfied: plotly>=5.0.0; python_version >= \"3.6\" in c:\\users\\radha\\anaconda3\\lib\\site-packages (from dtale) (5.6.0)\n",
      "Requirement already satisfied: statsmodels==0.12.2; python_version == \"3.7\" in c:\\users\\radha\\anaconda3\\lib\\site-packages (from dtale) (0.12.2)\n",
      "Requirement already satisfied: dash-daq in c:\\users\\radha\\anaconda3\\lib\\site-packages (from dtale) (0.5.0)\n",
      "Requirement already satisfied: seaborn; python_version > \"3.6\" in c:\\users\\radha\\anaconda3\\lib\\site-packages (from dtale) (0.11.2)\n",
      "Requirement already satisfied: Flask; python_version >= \"3.7\" in c:\\users\\radha\\anaconda3\\lib\\site-packages (from dtale) (1.0.2)\n",
      "Requirement already satisfied: future>=0.14.0 in c:\\users\\radha\\anaconda3\\lib\\site-packages (from dtale) (0.17.1)\n",
      "Requirement already satisfied: Flask-Compress in c:\\users\\radha\\anaconda3\\lib\\site-packages (from dtale) (1.13)\n",
      "Requirement already satisfied: scikit-learn==1.0.2; python_version == \"3.7\" in c:\\users\\radha\\anaconda3\\lib\\site-packages (from dtale) (1.0.2)\n",
      "Requirement already satisfied: et-xmlfile; python_version >= \"3.6\" in c:\\users\\radha\\anaconda3\\lib\\site-packages (from dtale) (1.0.1)\n",
      "Requirement already satisfied: squarify in c:\\users\\radha\\anaconda3\\lib\\site-packages (from dtale) (0.4.3)\n",
      "Requirement already satisfied: certifi; python_version > \"3.0\" in c:\\users\\radha\\anaconda3\\lib\\site-packages (from dtale) (2019.3.9)\n",
      "Requirement already satisfied: requests; python_version >= \"3.6\" in c:\\users\\radha\\anaconda3\\lib\\site-packages (from dtale) (2.28.1)\n",
      "Requirement already satisfied: missingno<=0.4.2 in c:\\users\\radha\\anaconda3\\lib\\site-packages (from dtale) (0.4.2)\n",
      "Requirement already satisfied: matplotlib==3.5.3; python_version == \"3.7\" in c:\\users\\radha\\anaconda3\\lib\\site-packages (from dtale) (3.5.3)\n",
      "Requirement already satisfied: dash-colorscales in c:\\users\\radha\\anaconda3\\lib\\site-packages (from dtale) (0.0.4)\n",
      "Requirement already satisfied: scipy==1.7.3; python_version == \"3.7\" in c:\\users\\radha\\anaconda3\\lib\\site-packages (from dtale) (1.7.3)\n",
      "Requirement already satisfied: dash-html-components==2.0.0 in c:\\users\\radha\\anaconda3\\lib\\site-packages (from dash>=2.0.0; python_version > \"3.6\"->dtale) (2.0.0)\n",
      "Requirement already satisfied: dash-core-components==2.0.0 in c:\\users\\radha\\anaconda3\\lib\\site-packages (from dash>=2.0.0; python_version > \"3.6\"->dtale) (2.0.0)\n",
      "Requirement already satisfied: dash-table==5.0.0 in c:\\users\\radha\\anaconda3\\lib\\site-packages (from dash>=2.0.0; python_version > \"3.6\"->dtale) (5.0.0)\n",
      "Requirement already satisfied: pyparsing>=2.0.2 in c:\\users\\radha\\anaconda3\\lib\\site-packages (from packaging<=21.0; python_version == \"3.7\"->dtale) (2.3.1)\n",
      "Requirement already satisfied: python-dateutil>=2.7.3 in c:\\users\\radha\\anaconda3\\lib\\site-packages (from pandas->dtale) (2.8.0)\n",
      "Requirement already satisfied: pytz>=2017.2 in c:\\users\\radha\\anaconda3\\lib\\site-packages (from pandas->dtale) (2018.9)\n",
      "Requirement already satisfied: jdcal in c:\\users\\radha\\anaconda3\\lib\\site-packages (from openpyxl; python_version >= \"3.0\"->dtale) (1.4)\n",
      "Requirement already satisfied: importlib-metadata; python_version < \"3.8\" in c:\\users\\radha\\anaconda3\\lib\\site-packages (from xarray; python_version >= \"3.0\"->dtale) (0.0.0)\n",
      "Requirement already satisfied: typing-extensions>=3.7; python_version < \"3.8\" in c:\\users\\radha\\anaconda3\\lib\\site-packages (from xarray; python_version >= \"3.0\"->dtale) (4.3.0)\n",
      "Requirement already satisfied: tenacity>=6.2.0 in c:\\users\\radha\\anaconda3\\lib\\site-packages (from plotly>=5.0.0; python_version >= \"3.6\"->dtale) (8.0.1)\n",
      "Requirement already satisfied: patsy>=0.5 in c:\\users\\radha\\anaconda3\\lib\\site-packages (from statsmodels==0.12.2; python_version == \"3.7\"->dtale) (0.5.2)\n",
      "Requirement already satisfied: Jinja2>=2.10 in c:\\users\\radha\\anaconda3\\lib\\site-packages (from Flask; python_version >= \"3.7\"->dtale) (3.1.2)\n",
      "Requirement already satisfied: click>=5.1 in c:\\users\\radha\\anaconda3\\lib\\site-packages (from Flask; python_version >= \"3.7\"->dtale) (7.0)\n",
      "Requirement already satisfied: Werkzeug>=0.14 in c:\\users\\radha\\anaconda3\\lib\\site-packages (from Flask; python_version >= \"3.7\"->dtale) (0.14.1)\n",
      "Requirement already satisfied: brotli in c:\\users\\radha\\anaconda3\\lib\\site-packages (from Flask-Compress->dtale) (1.0.9)\n",
      "Requirement already satisfied: joblib>=0.11 in c:\\users\\radha\\anaconda3\\lib\\site-packages (from scikit-learn==1.0.2; python_version == \"3.7\"->dtale) (1.1.0)\n",
      "Requirement already satisfied: threadpoolctl>=2.0.0 in c:\\users\\radha\\anaconda3\\lib\\site-packages (from scikit-learn==1.0.2; python_version == \"3.7\"->dtale) (3.1.0)\n",
      "Requirement already satisfied: idna<4,>=2.5 in c:\\users\\radha\\anaconda3\\lib\\site-packages (from requests; python_version >= \"3.6\"->dtale) (2.8)\n",
      "Requirement already satisfied: urllib3<1.27,>=1.21.1 in c:\\users\\radha\\anaconda3\\lib\\site-packages (from requests; python_version >= \"3.6\"->dtale) (1.24.1)\n",
      "Requirement already satisfied: charset-normalizer<3,>=2 in c:\\users\\radha\\anaconda3\\lib\\site-packages (from requests; python_version >= \"3.6\"->dtale) (2.1.1)\n",
      "Requirement already satisfied: fonttools>=4.22.0 in c:\\users\\radha\\anaconda3\\lib\\site-packages (from matplotlib==3.5.3; python_version == \"3.7\"->dtale) (4.37.3)\n",
      "Requirement already satisfied: pillow>=6.2.0 in c:\\users\\radha\\anaconda3\\lib\\site-packages (from matplotlib==3.5.3; python_version == \"3.7\"->dtale) (9.2.0)\n",
      "Requirement already satisfied: kiwisolver>=1.0.1 in c:\\users\\radha\\anaconda3\\lib\\site-packages (from matplotlib==3.5.3; python_version == \"3.7\"->dtale) (1.0.1)\n",
      "Requirement already satisfied: zipp>=0.3.2 in c:\\users\\radha\\anaconda3\\lib\\site-packages (from importlib-metadata; python_version < \"3.8\"->xarray; python_version >= \"3.0\"->dtale) (0.3.3)\n",
      "Requirement already satisfied: MarkupSafe>=2.0 in c:\\users\\radha\\anaconda3\\lib\\site-packages (from Jinja2>=2.10->Flask; python_version >= \"3.7\"->dtale) (2.1.1)\n",
      "Requirement already satisfied: setuptools in c:\\users\\radha\\anaconda3\\lib\\site-packages (from kiwisolver>=1.0.1->matplotlib==3.5.3; python_version == \"3.7\"->dtale) (40.8.0)\n"
     ]
    }
   ],
   "source": [
    "!pip install dtale"
   ]
  },
  {
   "cell_type": "code",
   "execution_count": 11,
   "metadata": {},
   "outputs": [
    {
     "ename": "ImportError",
     "evalue": "cannot import name 'Markup' from 'jinja2' (C:\\Users\\radha\\Anaconda3\\lib\\site-packages\\jinja2\\__init__.py)",
     "output_type": "error",
     "traceback": [
      "\u001b[1;31m---------------------------------------------------------------------------\u001b[0m",
      "\u001b[1;31mImportError\u001b[0m                               Traceback (most recent call last)",
      "\u001b[1;32m<ipython-input-11-33560840fdc5>\u001b[0m in \u001b[0;36m<module>\u001b[1;34m\u001b[0m\n\u001b[1;32m----> 1\u001b[1;33m \u001b[1;32mimport\u001b[0m \u001b[0mdtale\u001b[0m\u001b[1;33m\u001b[0m\u001b[1;33m\u001b[0m\u001b[0m\n\u001b[0m",
      "\u001b[1;32m~\\Anaconda3\\lib\\site-packages\\dtale\\__init__.py\u001b[0m in \u001b[0;36m<module>\u001b[1;34m\u001b[0m\n\u001b[0;32m      1\u001b[0m \u001b[1;32mimport\u001b[0m \u001b[0mwarnings\u001b[0m\u001b[1;33m\u001b[0m\u001b[1;33m\u001b[0m\u001b[0m\n\u001b[0;32m      2\u001b[0m \u001b[1;33m\u001b[0m\u001b[0m\n\u001b[1;32m----> 3\u001b[1;33m \u001b[1;32mfrom\u001b[0m \u001b[0mflask\u001b[0m \u001b[1;32mimport\u001b[0m \u001b[0mBlueprint\u001b[0m\u001b[1;33m\u001b[0m\u001b[1;33m\u001b[0m\u001b[0m\n\u001b[0m\u001b[0;32m      4\u001b[0m \u001b[1;33m\u001b[0m\u001b[0m\n\u001b[0;32m      5\u001b[0m \u001b[1;32mwith\u001b[0m \u001b[0mwarnings\u001b[0m\u001b[1;33m.\u001b[0m\u001b[0mcatch_warnings\u001b[0m\u001b[1;33m(\u001b[0m\u001b[1;33m)\u001b[0m\u001b[1;33m:\u001b[0m\u001b[1;33m\u001b[0m\u001b[1;33m\u001b[0m\u001b[0m\n",
      "\u001b[1;32m~\\Anaconda3\\lib\\site-packages\\flask\\__init__.py\u001b[0m in \u001b[0;36m<module>\u001b[1;34m\u001b[0m\n\u001b[0;32m     17\u001b[0m \u001b[1;32mfrom\u001b[0m \u001b[0mwerkzeug\u001b[0m\u001b[1;33m.\u001b[0m\u001b[0mexceptions\u001b[0m \u001b[1;32mimport\u001b[0m \u001b[0mabort\u001b[0m\u001b[1;33m\u001b[0m\u001b[1;33m\u001b[0m\u001b[0m\n\u001b[0;32m     18\u001b[0m \u001b[1;32mfrom\u001b[0m \u001b[0mwerkzeug\u001b[0m\u001b[1;33m.\u001b[0m\u001b[0mutils\u001b[0m \u001b[1;32mimport\u001b[0m \u001b[0mredirect\u001b[0m\u001b[1;33m\u001b[0m\u001b[1;33m\u001b[0m\u001b[0m\n\u001b[1;32m---> 19\u001b[1;33m \u001b[1;32mfrom\u001b[0m \u001b[0mjinja2\u001b[0m \u001b[1;32mimport\u001b[0m \u001b[0mMarkup\u001b[0m\u001b[1;33m,\u001b[0m \u001b[0mescape\u001b[0m\u001b[1;33m\u001b[0m\u001b[1;33m\u001b[0m\u001b[0m\n\u001b[0m\u001b[0;32m     20\u001b[0m \u001b[1;33m\u001b[0m\u001b[0m\n\u001b[0;32m     21\u001b[0m \u001b[1;32mfrom\u001b[0m \u001b[1;33m.\u001b[0m\u001b[0mapp\u001b[0m \u001b[1;32mimport\u001b[0m \u001b[0mFlask\u001b[0m\u001b[1;33m,\u001b[0m \u001b[0mRequest\u001b[0m\u001b[1;33m,\u001b[0m \u001b[0mResponse\u001b[0m\u001b[1;33m\u001b[0m\u001b[1;33m\u001b[0m\u001b[0m\n",
      "\u001b[1;31mImportError\u001b[0m: cannot import name 'Markup' from 'jinja2' (C:\\Users\\radha\\Anaconda3\\lib\\site-packages\\jinja2\\__init__.py)"
     ]
    }
   ],
   "source": [
    "import dtale"
   ]
  },
  {
   "cell_type": "code",
   "execution_count": null,
   "metadata": {},
   "outputs": [],
   "source": [
    "dtale.show(df)"
   ]
  },
  {
   "cell_type": "code",
   "execution_count": null,
   "metadata": {},
   "outputs": [],
   "source": [
    "!pip uninstall jinja2"
   ]
  },
  {
   "cell_type": "code",
   "execution_count": null,
   "metadata": {},
   "outputs": [],
   "source": [
    "!pip install --upgrade jinja2"
   ]
  }
 ],
 "metadata": {
  "kernelspec": {
   "display_name": "Python 3",
   "language": "python",
   "name": "python3"
  },
  "language_info": {
   "codemirror_mode": {
    "name": "ipython",
    "version": 3
   },
   "file_extension": ".py",
   "mimetype": "text/x-python",
   "name": "python",
   "nbconvert_exporter": "python",
   "pygments_lexer": "ipython3",
   "version": "3.7.3"
  }
 },
 "nbformat": 4,
 "nbformat_minor": 2
}
